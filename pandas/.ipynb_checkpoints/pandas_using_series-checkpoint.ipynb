{
 "cells": [
  {
   "cell_type": "code",
   "execution_count": 2,
   "id": "97f519af-a544-4db7-8862-cf5a82c921ab",
   "metadata": {},
   "outputs": [
    {
     "name": "stdout",
     "output_type": "stream",
     "text": [
      "0       ram\n",
      "1      suji\n",
      "2    rakesh\n",
      "dtype: object\n"
     ]
    }
   ],
   "source": [
    "import pandas as pd\n",
    "import numpy as np\n",
    "\n",
    "data1=[\"ram\", \"suji\", \"rakesh\"]\n",
    "np_array=np.array(data1)\n",
    "series=pd.Series(np_array)\n",
    "print(series)"
   ]
  },
  {
   "cell_type": "code",
   "execution_count": 5,
   "id": "a1cd3053-5011-482c-8e02-5e0f82427b38",
   "metadata": {},
   "outputs": [
    {
     "name": "stdout",
     "output_type": "stream",
     "text": [
      "r1       ram\n",
      "r2      suji\n",
      "r3    rakesh\n",
      "dtype: object\n"
     ]
    }
   ],
   "source": [
    "# With indexing\n",
    "# Syntax: pd.Series(data,index,dtype,copy)\n",
    "# Based on the above syntax, we are defining Series(data, index=[r1,r2,r3])\n",
    "\n",
    "series1=pd.Series(data1, index=[\"r1\", \"r2\", \"r3\"])\n",
    "print(series1)"
   ]
  },
  {
   "cell_type": "code",
   "execution_count": 6,
   "id": "45fa2d47-db33-488f-80b7-91d8207dc486",
   "metadata": {},
   "outputs": [
    {
     "name": "stdout",
     "output_type": "stream",
     "text": [
      "Courses     pandas\n",
      "Fees         20000\n",
      "Duration    30days\n",
      "dtype: object\n"
     ]
    }
   ],
   "source": [
    "data_dct={'Courses' :\"pandas\", 'Fees' : 20000, 'Duration' : \"30days\"}\n",
    "series2=pd.Series(data_dct)\n",
    "print(series2)"
   ]
  },
  {
   "cell_type": "code",
   "execution_count": 2,
   "id": "f7e7aca8-19d9-4ac6-bb2b-6a1b511175b7",
   "metadata": {},
   "outputs": [
    {
     "name": "stdout",
     "output_type": "stream",
     "text": [
      "Courses            pandas\n",
      "Fees                20000\n",
      "Course_Duration       NaN\n",
      "dtype: object\n"
     ]
    }
   ],
   "source": [
    "# Using Data Dictionary above specifiying the index's now\n",
    "# When using the dictionary it will points the keys for indexing\n",
    "import pandas as pd\n",
    "import numpy as np\n",
    "\n",
    "data_dict={'Courses' :\"pandas\", 'Fees' : 20000, 'Duration' : \"30days\"}\n",
    "series3=pd.Series(data_dict, index=[\"Courses\", \"Fees\",\"Course_Duration\"]) # you will get result NaN, because your indexing values does not match with keys in dictionary\n",
    "print(series3)"
   ]
  },
  {
   "cell_type": "code",
   "execution_count": 25,
   "id": "a9a4cac3-a8df-41f4-8cb2-9642fca4c683",
   "metadata": {
    "scrolled": true
   },
   "outputs": [
    {
     "name": "stdout",
     "output_type": "stream",
     "text": [
      "         Course_Name\n",
      "Course_1       Spark\n",
      "Course_2      Python\n",
      "Course_3        Java\n",
      "Course_4        .Net\n"
     ]
    }
   ],
   "source": [
    "# Convert Single Series to DataFrame, when you use DataFrame make sure that you should pass an index with the same number of entries as your series1\n",
    "import pandas as pd\n",
    "\n",
    "# Data for the series\n",
    "series1 = pd.Series(data=[\"Spark\", \"Python\", \"Java\", \".Net\"])\n",
    "\n",
    "# Creating a DataFrame, with an index that has 4 labels, one for each course\n",
    "df1 = pd.DataFrame(series1.values, columns=[\"Course_Name\"],index=[\"Course_1\", \"Course_2\", \"Course_3\", \"Course_4\"])\n",
    "\n",
    "# Printing the DataFrame\n",
    "print(df1)"
   ]
  },
  {
   "cell_type": "code",
   "execution_count": null,
   "id": "77718f93-7b11-43be-af18-3048c4f3136e",
   "metadata": {},
   "outputs": [],
   "source": []
  },
  {
   "cell_type": "code",
   "execution_count": null,
   "id": "8848e2d0-431a-4d8c-840d-931fa6177430",
   "metadata": {},
   "outputs": [],
   "source": []
  },
  {
   "cell_type": "code",
   "execution_count": null,
   "id": "19a0b89d-207f-4aac-a436-7f26ac044800",
   "metadata": {},
   "outputs": [],
   "source": []
  },
  {
   "cell_type": "code",
   "execution_count": null,
   "id": "92bf1420-982a-474f-8c47-8c01fef1e459",
   "metadata": {},
   "outputs": [],
   "source": []
  },
  {
   "cell_type": "code",
   "execution_count": null,
   "id": "3390c305-bc64-44e1-aa74-3c77b056cec8",
   "metadata": {},
   "outputs": [],
   "source": []
  },
  {
   "cell_type": "code",
   "execution_count": null,
   "id": "dc6fe9cc-73f4-4fcc-9591-c577449d07cf",
   "metadata": {},
   "outputs": [],
   "source": []
  },
  {
   "cell_type": "code",
   "execution_count": 19,
   "id": "de3bc2b2-f567-448c-818e-5f5f3e1900b4",
   "metadata": {},
   "outputs": [],
   "source": [
    "import pandas as pd\n",
    "\n",
    "series7=pd.Series(data=[\"Spark\",\"Python\",\"Java\",\".Net\"])\n",
    "df7=pd.DataFrame(series7, columns=[\"CourseName\"])"
   ]
  },
  {
   "cell_type": "code",
   "execution_count": 17,
   "id": "96a6a852-9161-404b-aa91-2efb96e67caf",
   "metadata": {},
   "outputs": [
    {
     "name": "stdout",
     "output_type": "stream",
     "text": [
      "        0       Fees\n",
      "0   Spark   22000.00\n",
      "1  Python  230000.00\n",
      "2    Java   35849.38\n",
      "3    .Net        NaN\n"
     ]
    }
   ],
   "source": [
    "# Converting Multiple Series into DataFrame\n",
    "\n",
    "series1=pd.Series(data=[\"Spark\",\"Python\",\"Java\",\".Net\"])\n",
    "series2=pd.Series(data=[22000, 230000, 35849.38], name=\"Fees\")\n",
    "df2=pd.concat([series1,series2], axis=1)\n",
    "print(df2)"
   ]
  },
  {
   "cell_type": "code",
   "execution_count": null,
   "id": "2bbb2180-a379-4021-acd8-6481f029ce27",
   "metadata": {},
   "outputs": [],
   "source": []
  },
  {
   "cell_type": "code",
   "execution_count": null,
   "id": "170437a5-1ab6-4f30-b3a7-be5abbfc5abe",
   "metadata": {},
   "outputs": [],
   "source": []
  },
  {
   "cell_type": "code",
   "execution_count": null,
   "id": "5f95d1b0-2acd-4f53-83c3-d5107c72abcb",
   "metadata": {},
   "outputs": [],
   "source": []
  },
  {
   "cell_type": "code",
   "execution_count": null,
   "id": "801dc696-9158-47e6-a3f2-4f92b0d7a4b5",
   "metadata": {},
   "outputs": [],
   "source": []
  },
  {
   "cell_type": "code",
   "execution_count": null,
   "id": "e6aa752b-6702-49af-8690-264c22870aca",
   "metadata": {},
   "outputs": [],
   "source": []
  },
  {
   "cell_type": "code",
   "execution_count": null,
   "id": "5df77abd-806c-426c-908f-5667d4c4d065",
   "metadata": {},
   "outputs": [],
   "source": []
  },
  {
   "cell_type": "code",
   "execution_count": null,
   "id": "2f317916-3752-43b6-9921-5680c66c9d14",
   "metadata": {},
   "outputs": [],
   "source": []
  },
  {
   "cell_type": "code",
   "execution_count": null,
   "id": "d7caced0-e78e-4c9b-b4eb-39b35460fdcd",
   "metadata": {},
   "outputs": [],
   "source": []
  },
  {
   "cell_type": "code",
   "execution_count": null,
   "id": "f23b1171-81fc-436b-87b7-3874282cc670",
   "metadata": {},
   "outputs": [],
   "source": []
  },
  {
   "cell_type": "code",
   "execution_count": null,
   "id": "47ccef72-9c46-4ccd-ae1b-53e2ad106179",
   "metadata": {},
   "outputs": [],
   "source": []
  },
  {
   "cell_type": "code",
   "execution_count": null,
   "id": "2d8caa4d-5746-43f7-9237-93db243fc16c",
   "metadata": {},
   "outputs": [],
   "source": []
  },
  {
   "cell_type": "code",
   "execution_count": null,
   "id": "3071757a-b10d-4658-aa58-bcaedfe462b5",
   "metadata": {},
   "outputs": [],
   "source": []
  },
  {
   "cell_type": "code",
   "execution_count": null,
   "id": "21e06deb-4934-4f23-af8b-9cb1a8cb1d7e",
   "metadata": {},
   "outputs": [],
   "source": []
  },
  {
   "cell_type": "code",
   "execution_count": null,
   "id": "1edcb38e-2c76-4f51-8538-beddb9fbc05e",
   "metadata": {},
   "outputs": [],
   "source": []
  },
  {
   "cell_type": "code",
   "execution_count": null,
   "id": "4e18045f-bab4-4b63-ab2e-226d16dfe043",
   "metadata": {},
   "outputs": [],
   "source": []
  },
  {
   "cell_type": "code",
   "execution_count": null,
   "id": "f75cf1c8-49c1-461e-a650-a39e415ee399",
   "metadata": {},
   "outputs": [],
   "source": []
  },
  {
   "cell_type": "code",
   "execution_count": null,
   "id": "565c3db2-9348-465f-bccb-e58cc0d88eda",
   "metadata": {},
   "outputs": [],
   "source": []
  },
  {
   "cell_type": "code",
   "execution_count": null,
   "id": "565e1890-4a69-4615-82be-ee2b5f74ad13",
   "metadata": {},
   "outputs": [],
   "source": []
  }
 ],
 "metadata": {
  "kernelspec": {
   "display_name": "Python 3 (ipykernel)",
   "language": "python",
   "name": "python3"
  },
  "language_info": {
   "codemirror_mode": {
    "name": "ipython",
    "version": 3
   },
   "file_extension": ".py",
   "mimetype": "text/x-python",
   "name": "python",
   "nbconvert_exporter": "python",
   "pygments_lexer": "ipython3",
   "version": "3.12.4"
  }
 },
 "nbformat": 4,
 "nbformat_minor": 5
}
