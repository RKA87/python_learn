{
 "cells": [
  {
   "cell_type": "code",
   "execution_count": 2,
   "id": "97f519af-a544-4db7-8862-cf5a82c921ab",
   "metadata": {},
   "outputs": [
    {
     "name": "stdout",
     "output_type": "stream",
     "text": [
      "0       ram\n",
      "1      suji\n",
      "2    rakesh\n",
      "dtype: object\n"
     ]
    }
   ],
   "source": [
    "import pandas as pd\n",
    "import numpy as np\n",
    "\n",
    "data1=[\"ram\", \"suji\", \"rakesh\"]\n",
    "np_array=np.array(data1)\n",
    "series=pd.Series(np_array)\n",
    "print(series)"
   ]
  },
  {
   "cell_type": "code",
   "execution_count": 5,
   "id": "a1cd3053-5011-482c-8e02-5e0f82427b38",
   "metadata": {},
   "outputs": [
    {
     "name": "stdout",
     "output_type": "stream",
     "text": [
      "r1       ram\n",
      "r2      suji\n",
      "r3    rakesh\n",
      "dtype: object\n"
     ]
    }
   ],
   "source": [
    "# With indexing\n",
    "# Syntax: pd.Series(data,index,dtype,copy)\n",
    "# Based on the above syntax, we are defining Series(data, index=[r1,r2,r3])\n",
    "\n",
    "series1=pd.Series(data1, index=[\"r1\", \"r2\", \"r3\"])\n",
    "print(series1)"
   ]
  },
  {
   "cell_type": "code",
   "execution_count": 6,
   "id": "45fa2d47-db33-488f-80b7-91d8207dc486",
   "metadata": {},
   "outputs": [
    {
     "name": "stdout",
     "output_type": "stream",
     "text": [
      "Courses     pandas\n",
      "Fees         20000\n",
      "Duration    30days\n",
      "dtype: object\n"
     ]
    }
   ],
   "source": [
    "data_dct={'Courses' :\"pandas\", 'Fees' : 20000, 'Duration' : \"30days\"}\n",
    "series2=pd.Series(data_dct)\n",
    "print(series2)"
   ]
  },
  {
   "cell_type": "code",
   "execution_count": 2,
   "id": "f7e7aca8-19d9-4ac6-bb2b-6a1b511175b7",
   "metadata": {},
   "outputs": [
    {
     "name": "stdout",
     "output_type": "stream",
     "text": [
      "Courses            pandas\n",
      "Fees                20000\n",
      "Course_Duration       NaN\n",
      "dtype: object\n"
     ]
    }
   ],
   "source": [
    "# Using Data Dictionary above specifiying the index's now\n",
    "# When using the dictionary it will points the keys for indexing\n",
    "import pandas as pd\n",
    "import numpy as np\n",
    "\n",
    "data_dict={'Courses' :\"pandas\", 'Fees' : 20000, 'Duration' : \"30days\"}\n",
    "series3=pd.Series(data_dict, index=[\"Courses\", \"Fees\",\"Course_Duration\"]) # you will get result NaN, because your indexing values does not match with keys in dictionary\n",
    "print(series3)"
   ]
  },
  {
   "cell_type": "code",
   "execution_count": 25,
   "id": "a9a4cac3-a8df-41f4-8cb2-9642fca4c683",
   "metadata": {
    "scrolled": true
   },
   "outputs": [
    {
     "name": "stdout",
     "output_type": "stream",
     "text": [
      "         Course_Name\n",
      "Course_1       Spark\n",
      "Course_2      Python\n",
      "Course_3        Java\n",
      "Course_4        .Net\n"
     ]
    }
   ],
   "source": [
    "# Convert Single Series to DataFrame, when you use DataFrame make sure that you should pass an index with the same number of entries as your series1\n",
    "import pandas as pd\n",
    "\n",
    "# Data for the series\n",
    "series1 = pd.Series(data=[\"Spark\", \"Python\", \"Java\", \".Net\"])\n",
    "\n",
    "# Creating a DataFrame, with an index that has 4 labels, one for each course\n",
    "df1 = pd.DataFrame(series1.values, columns=[\"Course_Name\"],index=[\"Course_1\", \"Course_2\", \"Course_3\", \"Course_4\"])\n",
    "\n",
    "# Printing the DataFrame\n",
    "print(df1)"
   ]
  },
  {
   "cell_type": "code",
   "execution_count": 32,
   "id": "01f874b8-d577-4422-9418-e07597933ffa",
   "metadata": {},
   "outputs": [
    {
     "name": "stdout",
     "output_type": "stream",
     "text": [
      "  CourseName\n",
      "0      Spark\n",
      "1     Python\n",
      "2       Java\n",
      "3       .Net\n"
     ]
    }
   ],
   "source": [
    "import pandas as pd\n",
    "\n",
    "series7=pd.Series(data=[\"Spark\",\"Python\",\"Java\",\".Net\"])\n",
    "df7=pd.DataFrame(series7, columns=[\"CourseName\"])\n",
    "print(df7)"
   ]
  },
  {
   "cell_type": "code",
   "execution_count": 29,
   "id": "96a6a852-9161-404b-aa91-2efb96e67caf",
   "metadata": {},
   "outputs": [
    {
     "name": "stdout",
     "output_type": "stream",
     "text": [
      "        Course_Name       Fees\n",
      "Course1       Spark   22000.00\n",
      "Course2      Python  230000.00\n",
      "Course3        Java   35849.38\n",
      "Course4        .Net    7777.00\n"
     ]
    }
   ],
   "source": [
    "# Converting Multiple Series into DataFrame\n",
    "\n",
    "series1=pd.Series(data=[\"Spark\",\"Python\",\"Java\",\".Net\"], index=[\"Course1\",\"Course2\",\"Course3\",\"Course4\"], name=\"Course_Name\")\n",
    "series2=pd.Series(data=[22000, 230000, 35849.38, 7777], index=[\"Course1\",\"Course2\",\"Course3\",\"Course4\"], name=\"Fees\")\n",
    "df2=pd.concat([series1,series2], axis=1)\n",
    "print(df2)"
   ]
  },
  {
   "cell_type": "code",
   "execution_count": null,
   "id": "26b727d0-adbc-4565-8581-831c6430e499",
   "metadata": {},
   "outputs": [],
   "source": []
  },
  {
   "cell_type": "code",
   "execution_count": null,
   "id": "5ec51239-1445-49a6-a966-1cbf8bd1563b",
   "metadata": {},
   "outputs": [],
   "source": []
  },
  {
   "cell_type": "code",
   "execution_count": null,
   "id": "3d9ddb17-7c09-48a1-8386-66d5d3e2e0c4",
   "metadata": {},
   "outputs": [],
   "source": []
  },
  {
   "cell_type": "code",
   "execution_count": null,
   "id": "7dcbe16f-42cb-4d98-95e7-4463c6c9cd50",
   "metadata": {},
   "outputs": [],
   "source": []
  },
  {
   "cell_type": "code",
   "execution_count": null,
   "id": "17075375-4edb-4ca5-a099-f8c29d09fe28",
   "metadata": {},
   "outputs": [],
   "source": []
  }
 ],
 "metadata": {
  "kernelspec": {
   "display_name": "Python 3 (ipykernel)",
   "language": "python",
   "name": "python3"
  },
  "language_info": {
   "codemirror_mode": {
    "name": "ipython",
    "version": 3
   },
   "file_extension": ".py",
   "mimetype": "text/x-python",
   "name": "python",
   "nbconvert_exporter": "python",
   "pygments_lexer": "ipython3",
   "version": "3.12.4"
  }
 },
 "nbformat": 4,
 "nbformat_minor": 5
}
