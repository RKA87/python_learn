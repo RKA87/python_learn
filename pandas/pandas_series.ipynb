{
 "cells": [
  {
   "cell_type": "code",
   "execution_count": 7,
   "id": "bc7766ff-6f85-4ace-8d82-aac46336e124",
   "metadata": {},
   "outputs": [
    {
     "name": "stdout",
     "output_type": "stream",
     "text": [
      "0         python\n",
      "1             rp\n",
      "2            php\n",
      "3    probability\n",
      "dtype: object\n"
     ]
    }
   ],
   "source": [
    "#Series syntax ==> Series(data,index,dtype,copy)\n",
    "# index will be representing as rows in Series class\n",
    "\n",
    "import pandas as pd\n",
    "import numpy as np\n",
    "\n",
    "data1=np.array([\"python\",\"rp\", \"php\", \"probability\"])\n",
    "series1=pd.Series(data1)\n",
    "\n",
    "print(series)"
   ]
  },
  {
   "cell_type": "code",
   "execution_count": 8,
   "id": "e91b9f54-572a-4cc4-9348-5be262a6fb21",
   "metadata": {},
   "outputs": [
    {
     "name": "stdout",
     "output_type": "stream",
     "text": [
      "r1      Raj\n",
      "r2      Ram\n",
      "r3     Sita\n",
      "r4    Arjun\n",
      "dtype: object\n"
     ]
    }
   ],
   "source": [
    "data2=np.array([\"Raj\",\"Ram\",\"Sita\",\"Arjun\"])\n",
    "series2=pd.Series(data2,index=[\"r1\",\"r2\",\"r3\",\"r4\"])\n",
    "print(series2)"
   ]
  },
  {
   "cell_type": "code",
   "execution_count": 9,
   "id": "b793633b-4bc8-4b4c-a7a0-0397245fd13e",
   "metadata": {},
   "outputs": [
    {
     "name": "stdout",
     "output_type": "stream",
     "text": [
      "Courses     pandas\n",
      "Fees         20000\n",
      "Duration    30days\n",
      "dtype: object\n"
     ]
    }
   ],
   "source": [
    "#Using Dictionaries, Keys will always treat as rows and values will be acts as columns\n",
    "\n",
    "data3={'Courses' :\"pandas\", 'Fees' : 20000, 'Duration' : \"30days\"}\n",
    "series3=pd.Series(data3)\n",
    "print(series3)"
   ]
  },
  {
   "cell_type": "code",
   "execution_count": 18,
   "id": "7fb0a505-83bb-4aa2-8d13-53028a7d1c29",
   "metadata": {},
   "outputs": [
    {
     "name": "stdout",
     "output_type": "stream",
     "text": [
      "0     Courses\n",
      "1        Fees\n",
      "2    Duration\n",
      "3        Name\n",
      "dtype: object\n"
     ]
    }
   ],
   "source": [
    "# Example with Dictionaries one more time\n",
    "\n",
    "data4={'Courses' :\"pandas\", 'Fees' : 20000, 'Duration' : \"30days\", \"Name\":\"Rakesh\"}\n",
    "series4=pd.Series(data4.keys())#,index=['r1','r2','r3','r4',])\n",
    "print(series4)"
   ]
  },
  {
   "cell_type": "code",
   "execution_count": 20,
   "id": "c9f61a5b-11d3-46e4-9d01-b67ff35d969d",
   "metadata": {},
   "outputs": [
    {
     "name": "stdout",
     "output_type": "stream",
     "text": [
      "0    pandas\n",
      "1     20000\n",
      "2    30days\n",
      "3    Rakesh\n",
      "4        27\n",
      "dtype: object\n"
     ]
    }
   ],
   "source": [
    "# Example with Dictionaries one more time\n",
    "\n",
    "data5={'Courses' :\"pandas\", 'Fees' : 20000, 'Duration' : \"30days\", \"Name\":\"Rakesh\",\"Id\":\"27\"}\n",
    "series5=pd.Series(data5.values())#,index=['r1','r2','r3','r4',])\n",
    "print(series5)"
   ]
  },
  {
   "cell_type": "code",
   "execution_count": 22,
   "id": "b1393f05-8995-4bdb-b1d0-b725fa75535d",
   "metadata": {},
   "outputs": [
    {
     "name": "stdout",
     "output_type": "stream",
     "text": [
      "r1     Courses\n",
      "r2        Fees\n",
      "r3    Duration\n",
      "r4        Name\n",
      "r5          Id\n",
      "dtype: object\n"
     ]
    }
   ],
   "source": [
    "# Example with Dictionaries one more time using keys only and replacing with index values bypass\n",
    "\n",
    "data6={'Courses' :\"pandas\", 'Fees' : 20000, 'Duration' : \"30days\", \"Name\":\"Rakesh\",\"Id\":\"27\"}\n",
    "series6=pd.Series(data6.keys(),index=['r1','r2','r3','r4','r5'])\n",
    "print(series6)"
   ]
  },
  {
   "cell_type": "code",
   "execution_count": 24,
   "id": "f6755cf5-43a1-4191-8628-615d982edfb5",
   "metadata": {},
   "outputs": [
    {
     "name": "stdout",
     "output_type": "stream",
     "text": [
      "r1    pandas\n",
      "r2     20000\n",
      "r3    30days\n",
      "r4    Rakesh\n",
      "r5        27\n",
      "dtype: object\n"
     ]
    }
   ],
   "source": [
    "# Example with Dictionaries one more time using keys only and replacing with index values bypass\n",
    "\n",
    "data7={'Courses' :\"pandas\", 'Fees' : 20000, 'Duration' : \"30days\", \"Name\":\"Rakesh\",\"Id\":\"27\"}\n",
    "series7=pd.Series(data7.values(),index=['r1','r2','r3','r4','r5'])\n",
    "print(series7)"
   ]
  },
  {
   "cell_type": "code",
   "execution_count": 26,
   "id": "3e89414b-4f67-440a-bff6-c6e172fd97e5",
   "metadata": {},
   "outputs": [
    {
     "name": "stdout",
     "output_type": "stream",
     "text": [
      "Courses     pandas\n",
      "Fees         20000\n",
      "Duration    30days\n",
      "Name        Rakesh\n",
      "Id              27\n",
      "dtype: object\n"
     ]
    }
   ],
   "source": [
    "# Example with Dictionaries one more time using keys only and replacing with index values bypass\n",
    "\n",
    "data8={'Courses' :\"pandas\", 'Fees' : 20000, 'Duration' : \"30days\", \"Name\":\"Rakesh\",\"Id\":\"27\"}\n",
    "series8=pd.Series(data8,index=['Courses','Fees','Duration','Name','Id'])\n",
    "print(series8)"
   ]
  },
  {
   "cell_type": "code",
   "execution_count": null,
   "id": "d9b70829-053e-4afa-9694-a4c4cadbbace",
   "metadata": {},
   "outputs": [
    {
     "name": "stdout",
     "output_type": "stream",
     "text": [
      "          0\n",
      "0  New York\n",
      "1   Chicago\n",
      "2   Toronto\n",
      "3    Lisbon\n",
      "4       Rio\n",
      "5    Moscow\n",
      "          0\n",
      "0  New York\n",
      "1   Chicago\n",
      "2   Toronto\n",
      "3    Lisbon\n",
      "4       Rio\n",
      "5    Moscow\n"
     ]
    }
   ],
   "source": [
    "# Converting Single Series to DataFrame\n",
    "\n",
    "data_in_sr=pd.Series(['New York', 'Chicago', 'Toronto', 'Lisbon', 'Rio', 'Moscow'])\n",
    "\n",
    "df_conversion_1=data_in_sr.to_frame() #method 1 is .to_frame()\n",
    "\n",
    "df_conversion_2=pd.DataFrame(data_in_sr) #method 2 is pd.DataFrame()\n",
    "\n",
    "print(df_conversion_1)\n",
    "\n",
    "print(df_conversion_2)"
   ]
  },
  {
   "cell_type": "code",
   "execution_count": 34,
   "id": "846ea56a-1acb-450a-8603-9793867bfebe",
   "metadata": {},
   "outputs": [
    {
     "name": "stdout",
     "output_type": "stream",
     "text": [
      "         0\n",
      "0  19.5000\n",
      "1  16.8000\n",
      "2  22.7800\n",
      "3  20.1240\n",
      "4  18.1002\n",
      "         0\n",
      "0  19.5000\n",
      "1  16.8000\n",
      "2  22.7800\n",
      "3  20.1240\n",
      "4  18.1002\n"
     ]
    }
   ],
   "source": [
    "# Converting the series into DataFrame\n",
    "\n",
    "sr = pd.Series([19.5, 16.8, 22.78, 20.124, 18.1002])\n",
    "\n",
    "df1 = sr.to_frame()\n",
    "\n",
    "df2 = pd.DataFrame(sr)\n",
    "\n",
    "print(df1)\n",
    "\n",
    "print(df2)"
   ]
  },
  {
   "cell_type": "code",
   "execution_count": 39,
   "id": "96ee40e9-cd2d-4f9c-81e1-c3e912197691",
   "metadata": {
    "scrolled": true
   },
   "outputs": [
    {
     "name": "stdout",
     "output_type": "stream",
     "text": [
      "    Column1\n",
      "r1        1\n",
      "r2        2\n",
      "r3        3\n",
      "r4        4\n"
     ]
    }
   ],
   "source": [
    "# Convert list to DataFrame\n",
    "\n",
    "data_list = [1, 2, 3, 4]\n",
    "df_from_list = pd.DataFrame(data_list, columns=['Column1'],index=['r1','r2','r3','r4'])\n",
    "\n",
    "print(df_from_list)"
   ]
  },
  {
   "cell_type": "code",
   "execution_count": 8,
   "id": "5190b502-d46e-4dcd-b6ce-799b2fd0952d",
   "metadata": {},
   "outputs": [
    {
     "name": "stdout",
     "output_type": "stream",
     "text": [
      "    A  B\n",
      "r1  5  1\n",
      "r2  6  2\n",
      "r3  7  3\n",
      "r4  8  4\n"
     ]
    }
   ],
   "source": [
    "# Using Concat to convert the multiple series into DataFrame\n",
    "\n",
    "# Concat is nothing but joining/adding between two, so you must have at least two series for using Concat method into DataFrame\n",
    "import pandas as pd\n",
    "\n",
    "s1 = pd.Series([5, 6, 7, 8], name='A', index=['r1','r2','r3','r4'])\n",
    "\n",
    "s2 = pd.Series([1, 2, 3, 4], name='B', index=['r1','r2','r3','r4'])\n",
    "\n",
    "df = pd.concat([s1, s2], axis=1)\n",
    "\n",
    "print(df)"
   ]
  },
  {
   "cell_type": "code",
   "execution_count": 15,
   "id": "6e71a204-db96-4abd-a42a-85edf1525327",
   "metadata": {},
   "outputs": [
    {
     "name": "stdout",
     "output_type": "stream",
     "text": [
      "r1    python\n",
      "r2       php\n",
      "r3      java\n",
      "dtype: object\n",
      "0    python\n",
      "1       php\n",
      "2      java\n",
      "Name: Courses, dtype: object\n"
     ]
    }
   ],
   "source": [
    "# Now using DataFrames data into Series\n",
    "\n",
    "# Converting Single DF Column into Series\n",
    "\n",
    "# Converting Single DF Row into Series\n",
    "\n",
    "import pandas as pd\n",
    "\n",
    "data = ['python','php','java']\n",
    "\n",
    "series_conversion = pd.Series(data, index=['r1', 'r2','r3']) #Series Conversion -> we got Series output\n",
    "print(series_conversion)\n",
    "\n",
    "dataframe_conversion = pd.DataFrame(data, columns=['Courses']) # DataFrame Conversion -> we only got conversion but to get Series need to squeeze \n",
    "\n",
    "series_outuput = dataframe_conversion.squeeze()\n",
    "print(series_outuput)"
   ]
  },
  {
   "cell_type": "code",
   "execution_count": 36,
   "id": "0dc0a0e1-b884-417f-8a61-f2b41810657e",
   "metadata": {},
   "outputs": [
    {
     "name": "stdout",
     "output_type": "stream",
     "text": [
      "   Courses Duration    Fee\n",
      "0    Spark  30 days  20000\n",
      "1  PySpark  40 days  25000\n",
      "2   Python  50 days  26000\n",
      "\n",
      "\n",
      "checking line: \n",
      "\n",
      "Title    30 days\n",
      "Name: 0, dtype: object\n",
      "0    30 days\n",
      "1    40 days\n",
      "2    50 days\n",
      "Name: Title, dtype: object\n",
      "<class 'pandas.core.series.Series'>\n"
     ]
    }
   ],
   "source": [
    "# Converting Multiple DF Columns or Dictionary formatted data into Series\n",
    "\n",
    "raw_data = {\n",
    "    'Courses': ['Spark', 'PySpark', 'Python'],\n",
    "    'Duration':['30 days', '40 days', '50 days'],\n",
    "    'Fee':[20000, 25000, 26000]\n",
    "    }\n",
    "\n",
    "data_frame = pd.DataFrame(raw_data, columns=['Courses','Duration','Fee'])\n",
    "print(data_frame)\n",
    "print('\\n')\n",
    "\n",
    "df_conversion=pd.DataFrame(raw_data['Duration'], columns=['Title']) #single column\n",
    "series_op = df_conversion.squeeze()\n",
    "\n",
    "print(series_op)\n",
    "print(type(series_op))"
   ]
  },
  {
   "cell_type": "code",
   "execution_count": 32,
   "id": "fcd343f6-06e3-480b-902e-c3ad02f0fa81",
   "metadata": {},
   "outputs": [
    {
     "name": "stdout",
     "output_type": "stream",
     "text": [
      "<class 'pandas.core.series.Series'>\n",
      "Courses      Python\n",
      "Duration    50 days\n",
      "Fee           26000\n",
      "Name: 2, dtype: object\n"
     ]
    }
   ],
   "source": [
    "# Using iloc[] method from DataFrame output in above cell, which is index 2\n",
    "\n",
    "x=(data_frame.iloc[2])\n",
    "print(type(x))\n",
    "print(x)"
   ]
  },
  {
   "cell_type": "code",
   "execution_count": null,
   "id": "557fda0e-9ef6-4802-81fa-bd23d8968cb8",
   "metadata": {},
   "outputs": [],
   "source": []
  },
  {
   "cell_type": "code",
   "execution_count": null,
   "id": "a573da00-9471-4bfc-b575-5f14c3c7d2ed",
   "metadata": {},
   "outputs": [],
   "source": []
  },
  {
   "cell_type": "code",
   "execution_count": null,
   "id": "567f5175-1489-419c-841f-75c933986e87",
   "metadata": {},
   "outputs": [],
   "source": []
  },
  {
   "cell_type": "code",
   "execution_count": null,
   "id": "77c792d1-5660-4f95-b6ab-a6aa4f87fa10",
   "metadata": {},
   "outputs": [],
   "source": []
  },
  {
   "cell_type": "code",
   "execution_count": null,
   "id": "b4bbb080-b1c1-4f73-9e37-87cde78647c7",
   "metadata": {},
   "outputs": [],
   "source": []
  },
  {
   "cell_type": "code",
   "execution_count": null,
   "id": "50326701-d708-481b-a7f9-48a202dec355",
   "metadata": {},
   "outputs": [],
   "source": []
  },
  {
   "cell_type": "code",
   "execution_count": null,
   "id": "73eb9dc6-64a4-4dc0-863c-f33bb8bb6929",
   "metadata": {},
   "outputs": [],
   "source": []
  },
  {
   "cell_type": "code",
   "execution_count": null,
   "id": "d929331f-9ddc-45fe-90f8-7741415b5f51",
   "metadata": {},
   "outputs": [],
   "source": []
  },
  {
   "cell_type": "code",
   "execution_count": null,
   "id": "0d6ca92e-c0c3-4010-ab54-e6e5e9589b63",
   "metadata": {},
   "outputs": [],
   "source": []
  },
  {
   "cell_type": "code",
   "execution_count": null,
   "id": "83d7714a-6331-4ddb-91eb-13c122d7eb2d",
   "metadata": {},
   "outputs": [],
   "source": []
  },
  {
   "cell_type": "code",
   "execution_count": null,
   "id": "e37f5aea-d760-4a16-9cc7-9e6a0a92ac3c",
   "metadata": {},
   "outputs": [],
   "source": []
  },
  {
   "cell_type": "code",
   "execution_count": null,
   "id": "4051a17d-47bb-46b2-9ed7-08dea3be45af",
   "metadata": {},
   "outputs": [],
   "source": []
  },
  {
   "cell_type": "code",
   "execution_count": null,
   "id": "19abecc8-9a80-4eb6-9d82-ec3ae9811176",
   "metadata": {},
   "outputs": [],
   "source": []
  },
  {
   "cell_type": "code",
   "execution_count": null,
   "id": "8525b62b-0149-4d48-88db-70464701d3f8",
   "metadata": {},
   "outputs": [],
   "source": []
  },
  {
   "cell_type": "code",
   "execution_count": null,
   "id": "8cf904aa-0ee1-4e3d-8636-aaf7dc6cd92f",
   "metadata": {},
   "outputs": [],
   "source": []
  },
  {
   "cell_type": "code",
   "execution_count": null,
   "id": "7cd25996-f241-4e37-bafa-efd91cc29ba1",
   "metadata": {},
   "outputs": [],
   "source": []
  },
  {
   "cell_type": "code",
   "execution_count": null,
   "id": "b1a1336e-db62-4d7b-abeb-947a173fde1a",
   "metadata": {},
   "outputs": [],
   "source": []
  },
  {
   "cell_type": "code",
   "execution_count": null,
   "id": "ed4cd722-6c2e-47f0-bd8c-7978eed57595",
   "metadata": {},
   "outputs": [],
   "source": []
  },
  {
   "cell_type": "code",
   "execution_count": null,
   "id": "faeff19c-8d40-4be6-91da-c59f1aadde7b",
   "metadata": {},
   "outputs": [],
   "source": []
  },
  {
   "cell_type": "code",
   "execution_count": null,
   "id": "5999458b-49b4-48ba-99ea-46223eaa7a0d",
   "metadata": {},
   "outputs": [],
   "source": []
  },
  {
   "cell_type": "code",
   "execution_count": null,
   "id": "c184f063-c302-4aa6-8fa0-18fb99b62086",
   "metadata": {},
   "outputs": [],
   "source": []
  },
  {
   "cell_type": "code",
   "execution_count": null,
   "id": "be66bac0-89a3-4fd2-afdb-81fa45373502",
   "metadata": {},
   "outputs": [],
   "source": []
  },
  {
   "cell_type": "code",
   "execution_count": null,
   "id": "ca671d61-3a52-496c-aee9-ffaf720893d3",
   "metadata": {},
   "outputs": [],
   "source": []
  },
  {
   "cell_type": "code",
   "execution_count": null,
   "id": "0326f87e-0961-48ae-a90a-585d20613a2f",
   "metadata": {},
   "outputs": [],
   "source": []
  },
  {
   "cell_type": "code",
   "execution_count": null,
   "id": "c75bd940-42cc-4644-8f5a-28a0898d0ab4",
   "metadata": {},
   "outputs": [],
   "source": []
  },
  {
   "cell_type": "code",
   "execution_count": null,
   "id": "fe2c61eb-19b9-4d47-bfb6-6b43d9b81ee7",
   "metadata": {},
   "outputs": [],
   "source": []
  },
  {
   "cell_type": "code",
   "execution_count": null,
   "id": "d1b80356-1487-45f4-bc60-3668b480c9b2",
   "metadata": {},
   "outputs": [],
   "source": []
  },
  {
   "cell_type": "code",
   "execution_count": null,
   "id": "60468dd2-2194-4f03-aafa-ef743783b20f",
   "metadata": {},
   "outputs": [],
   "source": []
  },
  {
   "cell_type": "code",
   "execution_count": null,
   "id": "51d61c93-72ba-48e1-8ca0-4c2da25d223f",
   "metadata": {},
   "outputs": [],
   "source": []
  },
  {
   "cell_type": "code",
   "execution_count": null,
   "id": "9afeaf98-0cd8-4703-b711-a90a955e8b2e",
   "metadata": {},
   "outputs": [],
   "source": []
  },
  {
   "cell_type": "code",
   "execution_count": null,
   "id": "428b7537-367f-41ad-9572-39a3342ac256",
   "metadata": {},
   "outputs": [],
   "source": []
  },
  {
   "cell_type": "code",
   "execution_count": null,
   "id": "1ca17a03-3d76-4fa3-99b9-33f60a802a5e",
   "metadata": {},
   "outputs": [],
   "source": []
  },
  {
   "cell_type": "code",
   "execution_count": null,
   "id": "5a1bea08-61af-4c15-9f84-28e8ca00ba0f",
   "metadata": {},
   "outputs": [],
   "source": []
  },
  {
   "cell_type": "code",
   "execution_count": null,
   "id": "6453c988-133d-4312-863b-88bee78edf40",
   "metadata": {},
   "outputs": [],
   "source": []
  },
  {
   "cell_type": "code",
   "execution_count": null,
   "id": "5b6ea6e3-cf85-44de-9660-8e3939ea59bd",
   "metadata": {},
   "outputs": [],
   "source": []
  },
  {
   "cell_type": "code",
   "execution_count": null,
   "id": "7fb545fd-ee0a-45b1-964a-69844eac4822",
   "metadata": {},
   "outputs": [],
   "source": []
  },
  {
   "cell_type": "code",
   "execution_count": null,
   "id": "b20bdc47-e9d2-40f9-9062-e33c78153365",
   "metadata": {},
   "outputs": [],
   "source": []
  },
  {
   "cell_type": "code",
   "execution_count": null,
   "id": "2193283d-e319-4ca9-81c6-d779d1fac7e5",
   "metadata": {},
   "outputs": [],
   "source": []
  },
  {
   "cell_type": "code",
   "execution_count": null,
   "id": "52bdfc56-6136-45a3-a980-ca28f9178584",
   "metadata": {},
   "outputs": [],
   "source": []
  },
  {
   "cell_type": "code",
   "execution_count": null,
   "id": "4a68777f-b468-4b9f-8047-7e90d9a72a34",
   "metadata": {},
   "outputs": [],
   "source": []
  },
  {
   "cell_type": "code",
   "execution_count": null,
   "id": "c894b3c6-9baa-4f2a-8f91-32ab0dd334c0",
   "metadata": {},
   "outputs": [],
   "source": []
  },
  {
   "cell_type": "code",
   "execution_count": null,
   "id": "e0ad58ca-d7e1-4df2-9006-e39eb573baad",
   "metadata": {},
   "outputs": [],
   "source": []
  },
  {
   "cell_type": "code",
   "execution_count": null,
   "id": "2462cade-d6c9-48e3-a829-735b7b2fdc15",
   "metadata": {},
   "outputs": [],
   "source": []
  },
  {
   "cell_type": "code",
   "execution_count": null,
   "id": "ff2e79fd-7302-437a-88f6-c36117743edd",
   "metadata": {},
   "outputs": [],
   "source": []
  },
  {
   "cell_type": "code",
   "execution_count": null,
   "id": "afda9674-c28b-41db-a7d7-cea2f768a51b",
   "metadata": {},
   "outputs": [],
   "source": []
  },
  {
   "cell_type": "code",
   "execution_count": null,
   "id": "fd4c1f62-52b6-4de5-8665-5f6e91960025",
   "metadata": {},
   "outputs": [],
   "source": []
  },
  {
   "cell_type": "code",
   "execution_count": null,
   "id": "c18bc2f4-d940-4499-9ec9-1c328471746e",
   "metadata": {},
   "outputs": [],
   "source": []
  },
  {
   "cell_type": "code",
   "execution_count": null,
   "id": "284486ab-4e08-4823-8d87-48c24aa6bd4e",
   "metadata": {},
   "outputs": [],
   "source": []
  },
  {
   "cell_type": "code",
   "execution_count": null,
   "id": "b8fa432b-24f4-4e5e-b1b9-4ea48660a17e",
   "metadata": {},
   "outputs": [],
   "source": []
  },
  {
   "cell_type": "code",
   "execution_count": null,
   "id": "056c8fc7-0ce5-4a17-afee-b326387d1626",
   "metadata": {},
   "outputs": [],
   "source": []
  },
  {
   "cell_type": "code",
   "execution_count": null,
   "id": "502d951c-0e9b-499d-a88c-86b98738b4e9",
   "metadata": {},
   "outputs": [],
   "source": []
  },
  {
   "cell_type": "code",
   "execution_count": null,
   "id": "e254d6af-24b5-4b3d-b589-b0da40dec243",
   "metadata": {},
   "outputs": [],
   "source": []
  },
  {
   "cell_type": "code",
   "execution_count": null,
   "id": "213dd57d-9ecf-49c7-af82-91d2b007c860",
   "metadata": {},
   "outputs": [],
   "source": []
  },
  {
   "cell_type": "code",
   "execution_count": null,
   "id": "248bd53b-7668-413d-b865-8666d86165ff",
   "metadata": {},
   "outputs": [],
   "source": []
  },
  {
   "cell_type": "code",
   "execution_count": null,
   "id": "cc2ac79d-f73e-42b4-b594-6118bf8fa07f",
   "metadata": {},
   "outputs": [],
   "source": []
  },
  {
   "cell_type": "code",
   "execution_count": null,
   "id": "ff225258-925c-4cd3-9cbc-295fdf776782",
   "metadata": {},
   "outputs": [],
   "source": []
  },
  {
   "cell_type": "code",
   "execution_count": null,
   "id": "d53c67cd-3b27-46af-b40e-3c4d76f088a5",
   "metadata": {},
   "outputs": [],
   "source": []
  },
  {
   "cell_type": "code",
   "execution_count": null,
   "id": "ef671e01-fc2d-4048-839e-3a98f7f950b4",
   "metadata": {},
   "outputs": [],
   "source": []
  },
  {
   "cell_type": "code",
   "execution_count": null,
   "id": "f9a0c3b8-ba69-4a45-b26c-b41e85f48fbb",
   "metadata": {},
   "outputs": [],
   "source": []
  },
  {
   "cell_type": "code",
   "execution_count": null,
   "id": "8425d4ca-701c-446b-8f13-8eac17dbc5a6",
   "metadata": {},
   "outputs": [],
   "source": []
  },
  {
   "cell_type": "code",
   "execution_count": null,
   "id": "b26a3149-bf17-4dbf-9f32-c4358dca93e5",
   "metadata": {},
   "outputs": [],
   "source": []
  },
  {
   "cell_type": "code",
   "execution_count": null,
   "id": "6a20e3d6-7290-41c1-b65e-5e660a19169b",
   "metadata": {},
   "outputs": [],
   "source": []
  }
 ],
 "metadata": {
  "kernelspec": {
   "display_name": "Python 3 (ipykernel)",
   "language": "python",
   "name": "python3"
  },
  "language_info": {
   "codemirror_mode": {
    "name": "ipython",
    "version": 3
   },
   "file_extension": ".py",
   "mimetype": "text/x-python",
   "name": "python",
   "nbconvert_exporter": "python",
   "pygments_lexer": "ipython3",
   "version": "3.11.2"
  }
 },
 "nbformat": 4,
 "nbformat_minor": 5
}
