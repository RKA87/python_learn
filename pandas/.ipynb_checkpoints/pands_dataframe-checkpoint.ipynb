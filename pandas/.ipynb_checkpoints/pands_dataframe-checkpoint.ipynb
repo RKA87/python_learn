{
 "cells": [
  {
   "cell_type": "code",
   "execution_count": 5,
   "id": "3a4a637f-cd66-425c-a80b-6d0be4769d73",
   "metadata": {},
   "outputs": [],
   "source": [
    "# DataFrame Syntax 'DataFrame(data=None,columns=None,index=None,dtype=None,copy=None)'\n",
    "# DataFrame is 2D, two dimensional\n",
    "\n",
    "import pandas as pd\n",
    "\n",
    "df=pd.DataFrame(data=None,columns=None,index=None,dtype=None,copy=None)"
   ]
  },
  {
   "cell_type": "code",
   "execution_count": 12,
   "id": "9f343681-d9cb-4747-b335-012e22975ed9",
   "metadata": {},
   "outputs": [
    {
     "name": "stdout",
     "output_type": "stream",
     "text": [
      "        c1     c2      c3\n",
      "r1   Spark  20000  30days\n",
      "r2  Pandas  25000  40days\n"
     ]
    }
   ],
   "source": [
    "tech = [\n",
    "    [\"Spark\",20000, \"30days\"], \n",
    "    [\"Pandas\",25000, \"40days\"], \n",
    "        ]\n",
    "\n",
    "df1=pd.DataFrame(tech, columns=['c1','c2', 'c3'], index=['r1','r2'])\n",
    "print(df1)"
   ]
  },
  {
   "cell_type": "code",
   "execution_count": 15,
   "id": "45cb91de-f214-4935-92ce-e786df8fffdb",
   "metadata": {},
   "outputs": [
    {
     "name": "stdout",
     "output_type": "stream",
     "text": [
      "   Courses    Fee Duration\n",
      "r1   Spark  20000   30days\n",
      "r2  Pandas  25000   40days\n"
     ]
    }
   ],
   "source": [
    "# Create DataFrame from Dict\n",
    "technologies = {\n",
    "    'Courses':[\"Spark\",\"Pandas\"],\n",
    "    'Fee' :[20000,25000],\n",
    "    'Duration':['30days','40days']\n",
    "              }\n",
    "df2 = pd.DataFrame(technologies, index=['r1','r2'])\n",
    "print(df2)"
   ]
  },
  {
   "cell_type": "code",
   "execution_count": 21,
   "id": "58012284-12fd-43c3-89a4-32d04ee2a985",
   "metadata": {},
   "outputs": [
    {
     "name": "stdout",
     "output_type": "stream",
     "text": [
      "        0      1       2\n",
      "0   Spark  20000  30days\n",
      "1  Pandas  25000  40days\n"
     ]
    }
   ],
   "source": [
    "# Converting Series into DataFrame\n",
    "\n",
    "s1 = pd.Series([\"Spark\",\"Pandas\"])\n",
    "s2 = pd.Series([20000,25000])\n",
    "s3 = pd.Series(['30days','40days'])\n",
    "\n",
    "df3=pd.concat([s1,s2,s3], axis=1)\n",
    "print(df3)"
   ]
  },
  {
   "cell_type": "code",
   "execution_count": 22,
   "id": "64803a33-e23f-4077-9672-2d7ff915ca9c",
   "metadata": {},
   "outputs": [
    {
     "name": "stdout",
     "output_type": "stream",
     "text": [
      "  Courses    Fee Duration\n",
      "0   Spark  20000   30days\n",
      "1  Pandas  25000   40days\n"
     ]
    }
   ],
   "source": [
    "#DataFrame using Zip() function\n",
    "\n",
    "# Create Lists\n",
    "Courses = ['Spark', 'Pandas']\n",
    "Fee = [20000,25000]\n",
    "Duration = ['30days','40days']\n",
    "   \n",
    "# Merge lists by using zip().\n",
    "tuples_list = list(zip(Courses, Fee, Duration))\n",
    "\n",
    "df = pd.DataFrame(tuples_list, columns = ['Courses', 'Fee', 'Duration'])\n",
    "print(df)"
   ]
  },
  {
   "cell_type": "code",
   "execution_count": null,
   "id": "8fdbbbd3-fd67-4004-ab2d-0a286205fd1e",
   "metadata": {},
   "outputs": [],
   "source": []
  },
  {
   "cell_type": "code",
   "execution_count": null,
   "id": "fe5eaf24-9d2b-4745-a087-9ba808311047",
   "metadata": {},
   "outputs": [],
   "source": []
  },
  {
   "cell_type": "code",
   "execution_count": null,
   "id": "2caaff81-69ec-4480-aba6-1f0555bbb2ff",
   "metadata": {},
   "outputs": [],
   "source": []
  },
  {
   "cell_type": "code",
   "execution_count": null,
   "id": "2ce9ca46-5ee7-4260-a5cf-ae2e8639c99f",
   "metadata": {},
   "outputs": [],
   "source": []
  },
  {
   "cell_type": "code",
   "execution_count": null,
   "id": "9711e726-08ea-48a3-9232-7380778bba62",
   "metadata": {},
   "outputs": [],
   "source": []
  },
  {
   "cell_type": "code",
   "execution_count": null,
   "id": "4160e05d-1608-4249-a490-0be2add14aea",
   "metadata": {},
   "outputs": [],
   "source": []
  },
  {
   "cell_type": "code",
   "execution_count": null,
   "id": "b1f9e312-d37b-4dc5-ba0d-a452c454ff8c",
   "metadata": {},
   "outputs": [],
   "source": []
  },
  {
   "cell_type": "code",
   "execution_count": null,
   "id": "50d1737d-097f-4227-86bc-1e0daf7b96a3",
   "metadata": {},
   "outputs": [],
   "source": []
  },
  {
   "cell_type": "code",
   "execution_count": null,
   "id": "b5d50954-86c7-4ab5-937e-fc5f6923198c",
   "metadata": {},
   "outputs": [],
   "source": []
  },
  {
   "cell_type": "code",
   "execution_count": null,
   "id": "cff3e964-ce28-410c-baf9-7076328272af",
   "metadata": {},
   "outputs": [],
   "source": []
  },
  {
   "cell_type": "code",
   "execution_count": null,
   "id": "174ff898-ecad-431a-aef9-11b9a57c1e7e",
   "metadata": {},
   "outputs": [],
   "source": []
  },
  {
   "cell_type": "code",
   "execution_count": null,
   "id": "38963580-4c9f-4240-b040-f212a614e8bd",
   "metadata": {},
   "outputs": [],
   "source": []
  },
  {
   "cell_type": "code",
   "execution_count": null,
   "id": "c0f18e0f-5123-42a8-8a38-8d2f809916cb",
   "metadata": {},
   "outputs": [],
   "source": []
  },
  {
   "cell_type": "code",
   "execution_count": null,
   "id": "005f00d3-ac84-457e-b5cb-be3f45db74fd",
   "metadata": {},
   "outputs": [],
   "source": []
  },
  {
   "cell_type": "code",
   "execution_count": null,
   "id": "75ad296a-1ec9-4ebc-abca-96877bcb92d6",
   "metadata": {},
   "outputs": [],
   "source": []
  }
 ],
 "metadata": {
  "kernelspec": {
   "display_name": "Python 3 (ipykernel)",
   "language": "python",
   "name": "python3"
  },
  "language_info": {
   "codemirror_mode": {
    "name": "ipython",
    "version": 3
   },
   "file_extension": ".py",
   "mimetype": "text/x-python",
   "name": "python",
   "nbconvert_exporter": "python",
   "pygments_lexer": "ipython3",
   "version": "3.11.2"
  }
 },
 "nbformat": 4,
 "nbformat_minor": 5
}
